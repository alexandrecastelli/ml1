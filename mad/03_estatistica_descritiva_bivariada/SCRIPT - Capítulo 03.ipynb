{
 "cells": [
  {
   "cell_type": "code",
   "execution_count": null,
   "id": "d20831fd",
   "metadata": {},
   "outputs": [],
   "source": [
    "##############################################################################\n",
    "#                     MANUAL DE ANÁLISE DE DADOS                             #\n",
    "#                Luiz Paulo Fávero e Patrícia Belfiore                       #\n",
    "#                            Capítulo 03                                     #\n",
    "##############################################################################\n",
    "\n",
    "##############################################################################\n",
    "#                     IMPORTAÇÃO DOS PACOTES NECESSÁRIOS                     #\n",
    "##############################################################################\n",
    "\n",
    "import pandas as pd #manipulação de dados em formato de dataframe\n",
    "from scipy.stats import chi2_contingency #estatística qui-quadrado\n",
    "from scipy.stats.contingency import association #medidas de associação\n",
    "import matplotlib.pyplot as plt #biblioteca de visualização de dados\n",
    "import seaborn as sns #biblioteca de visualização de informações estatísticas\n",
    "import numpy as np #biblioteca para operações matemáticas multidimensionais\n",
    "from scipy.stats import pearsonr #cálculo da correlação de Pearson"
   ]
  },
  {
   "cell_type": "code",
   "execution_count": null,
   "id": "449d30f2",
   "metadata": {},
   "outputs": [],
   "source": [
    "##############################################################################\n",
    "#              DESCRIÇÃO E EXPLORAÇÃO DO DATASET 'PlanoSaude'                #\n",
    "##############################################################################"
   ]
  },
  {
   "cell_type": "code",
   "execution_count": null,
   "id": "604243ea",
   "metadata": {},
   "outputs": [],
   "source": [
    "# Carregamento da base de dados 'PlanoSaude'\n",
    "df_planosaude = pd.read_csv('PlanoSaude.csv', delimiter=',')\n",
    "\n",
    "# Visualização da base de dados 'PlanoSaude'\n",
    "df_planosaude"
   ]
  },
  {
   "cell_type": "code",
   "execution_count": null,
   "id": "5703ba4d",
   "metadata": {},
   "outputs": [],
   "source": [
    "# Tabela de contingência para as variáveis 'operadora' e 'satisfacao'\n",
    "# Tabela completa com soma nas linhas e colunas\n",
    "tabela_completa = pd.crosstab(df_planosaude['operadora'],\n",
    "                              df_planosaude['satisfacao'], margins=True)\n",
    "tabela_completa\n",
    "\n",
    "# Tabela de contingência propriamente dita\n",
    "tabela_conting = pd.crosstab(df_planosaude['operadora'],\n",
    "                             df_planosaude['satisfacao'])\n",
    "tabela_conting"
   ]
  },
  {
   "cell_type": "code",
   "execution_count": null,
   "id": "9be4ed50",
   "metadata": {},
   "outputs": [],
   "source": [
    "# Medida de associação - estatística qui-quadrado e teste\n",
    "chi2, pvalor, df, freq_esp = chi2_contingency(tabela_conting)\n",
    "pd.DataFrame({'Qui-quadrado':[chi2],\n",
    "              'Graus de liberdade':[df],\n",
    "              'p-value':[pvalor]})"
   ]
  },
  {
   "cell_type": "code",
   "execution_count": null,
   "id": "2d31d4ea",
   "metadata": {},
   "outputs": [],
   "source": [
    "# Resíduos da tabela de contingência\n",
    "residuos = tabela_conting - freq_esp\n",
    "residuos"
   ]
  },
  {
   "cell_type": "code",
   "execution_count": null,
   "id": "a8852e54",
   "metadata": {},
   "outputs": [],
   "source": [
    "##############################################################################\n",
    "#         DESCRIÇÃO E EXPLORAÇÃO DO DATASET 'Segmentação_Mercado'            #\n",
    "##############################################################################"
   ]
  },
  {
   "cell_type": "code",
   "execution_count": null,
   "id": "9b747857",
   "metadata": {},
   "outputs": [],
   "source": [
    "# Carregamento da base de dados 'Segmentação_Mercado'\n",
    "df_segmentacao = pd.read_csv('Segmentação_Mercado.csv', delimiter=',')\n",
    "\n",
    "# Visualização da base de dados 'Segmentação_Mercado'\n",
    "df_segmentacao"
   ]
  },
  {
   "cell_type": "code",
   "execution_count": null,
   "id": "d2226d63",
   "metadata": {},
   "outputs": [],
   "source": [
    "# Tabela de contingência para as variáveis 'roupa' e 'regiao'\n",
    "tabela_conting = pd.crosstab(df_segmentacao['roupa'],\n",
    "                             df_segmentacao['regiao'])\n",
    "tabela_conting"
   ]
  },
  {
   "cell_type": "code",
   "execution_count": null,
   "id": "7a16158d",
   "metadata": {},
   "outputs": [],
   "source": [
    "# Medidas de associação\n",
    "# Coeficiente de contingência\n",
    "association(tabela_conting, method='pearson')\n",
    "\n",
    "# Coeficiente V de Cramer\n",
    "association(tabela_conting, method='cramer')"
   ]
  },
  {
   "cell_type": "code",
   "execution_count": null,
   "id": "7a9ef1ea",
   "metadata": {},
   "outputs": [],
   "source": [
    "##############################################################################\n",
    "#                DESCRIÇÃO E EXPLORAÇÃO DO DATASET 'Notas'                   #\n",
    "##############################################################################"
   ]
  },
  {
   "cell_type": "code",
   "execution_count": null,
   "id": "e5d4cbaf",
   "metadata": {},
   "outputs": [],
   "source": [
    "# Carregamento da base de dados 'Notas'\n",
    "df_notas = pd.read_csv('Notas.csv', delimiter=',')\n",
    "\n",
    "# Visualização da base de dados 'Notas'\n",
    "df_notas"
   ]
  },
  {
   "cell_type": "code",
   "execution_count": null,
   "id": "00cf3bd2",
   "metadata": {},
   "outputs": [],
   "source": [
    "# Coeficiente de correlação de Spearman\n",
    "df_notas.corr(method=\"spearman\")"
   ]
  },
  {
   "cell_type": "code",
   "execution_count": null,
   "id": "56b3e05c",
   "metadata": {},
   "outputs": [],
   "source": [
    "##############################################################################\n",
    "#             DESCRIÇÃO E EXPLORAÇÃO DO DATASET 'Renda_Estudo'               #\n",
    "##############################################################################"
   ]
  },
  {
   "cell_type": "code",
   "execution_count": null,
   "id": "8325222d",
   "metadata": {},
   "outputs": [],
   "source": [
    "# Carregamento da base de dados 'Renda_Estudo'\n",
    "df_renda = pd.read_csv('Renda_Estudo.csv', delimiter=',')\n",
    "\n",
    "# Visualização da base de dados 'Renda_Estudo'\n",
    "df_renda"
   ]
  },
  {
   "cell_type": "code",
   "execution_count": null,
   "id": "225d1a3b",
   "metadata": {},
   "outputs": [],
   "source": [
    "# Diagrama de dispersão\n",
    "plt.figure(figsize=(15,10))\n",
    "sns.scatterplot(data=df_renda, x='anosdeestudo', y='rendafamiliar')\n",
    "plt.xlabel('Anos de Estudo', fontsize=16)\n",
    "plt.ylabel('Renda Familiar', fontsize=16)\n",
    "plt.show"
   ]
  },
  {
   "cell_type": "code",
   "execution_count": null,
   "id": "1b4bb3d9",
   "metadata": {},
   "outputs": [],
   "source": [
    "# Medidas de correlação\n",
    "# Covariância\n",
    "np.cov(df_renda['rendafamiliar'], df_renda['anosdeestudo'])"
   ]
  },
  {
   "cell_type": "code",
   "execution_count": null,
   "id": "27c390ef",
   "metadata": {},
   "outputs": [],
   "source": [
    "# Coeficiente de correlação de Pearson\n",
    "# Maneira 1\n",
    "df_renda.corr(method=\"pearson\")"
   ]
  },
  {
   "cell_type": "code",
   "execution_count": null,
   "id": "c2f7f150",
   "metadata": {},
   "outputs": [],
   "source": [
    "# Maneira 2 (pacote numpy)\n",
    "np.corrcoef(df_renda['rendafamiliar'], df_renda['anosdeestudo'])"
   ]
  },
  {
   "cell_type": "code",
   "execution_count": null,
   "id": "a7ce447e",
   "metadata": {},
   "outputs": [],
   "source": [
    "# Maneira 3 (pacote scipy.stats)\n",
    "pearsonr(df_renda['rendafamiliar'], df_renda['anosdeestudo'])"
   ]
  },
  {
   "cell_type": "code",
   "execution_count": null,
   "id": "4de95a0a",
   "metadata": {},
   "outputs": [],
   "source": [
    "# Mapa de calor com correlação entre as variáveis\n",
    "plt.figure(figsize=(15,10))\n",
    "sns.heatmap(df_renda.corr(), annot=True, cmap = plt.cm.viridis,\n",
    "            annot_kws={'size':20})\n",
    "plt.show"
   ]
  },
  {
   "cell_type": "code",
   "execution_count": null,
   "id": "5b097ab1",
   "metadata": {},
   "outputs": [],
   "source": [
    "# Gráfico com diagramas de dispersão e histogramas das variáveis\n",
    "plt.figure(figsize=(15,10))\n",
    "sns.pairplot(df_renda)\n",
    "plt.show"
   ]
  },
  {
   "cell_type": "code",
   "execution_count": null,
   "id": "d1c5ee38",
   "metadata": {},
   "outputs": [],
   "source": [
    "# Gráfico com diagramas de dispersão, histogramas das variáveis e\n",
    "#correlações de Pearson\n",
    "\n",
    "# Definição da função 'corrfunc'\n",
    "def corrfunc(x, y, **kws):\n",
    "    (r, p) = pearsonr(x, y)\n",
    "    ax = plt.gca()\n",
    "    ax.annotate(\"r = {:.2f} \".format(r),\n",
    "                xy=(.1, .9), xycoords=ax.transAxes)\n",
    "    ax.annotate(\"p = {:.3f}\".format(p),\n",
    "                xy=(.4, .9), xycoords=ax.transAxes)\n",
    "\n",
    "plt.figure(figsize=(15,10))\n",
    "graph = sns.pairplot(df_renda)\n",
    "graph.map(corrfunc)\n",
    "plt.show()"
   ]
  }
 ],
 "metadata": {
  "jupytext": {
   "cell_metadata_filter": "-all",
   "main_language": "python",
   "notebook_metadata_filter": "-all"
  },
  "kernelspec": {
   "display_name": "Python 3 (ipykernel)",
   "language": "python",
   "name": "python3"
  },
  "language_info": {
   "codemirror_mode": {
    "name": "ipython",
    "version": 3
   },
   "file_extension": ".py",
   "mimetype": "text/x-python",
   "name": "python",
   "nbconvert_exporter": "python",
   "pygments_lexer": "ipython3",
   "version": "3.9.13"
  }
 },
 "nbformat": 4,
 "nbformat_minor": 5
}
