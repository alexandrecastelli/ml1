{
 "cells": [
  {
   "cell_type": "code",
   "execution_count": null,
   "id": "2e13495b",
   "metadata": {},
   "outputs": [],
   "source": [
    "##############################################################################\n",
    "#                     MANUAL DE ANÁLISE DE DADOS                             #\n",
    "#                Luiz Paulo Fávero e Patrícia Belfiore                       #\n",
    "#                            Capítulo 01                                     #\n",
    "##############################################################################"
   ]
  },
  {
   "cell_type": "code",
   "execution_count": null,
   "id": "1071d14b",
   "metadata": {},
   "outputs": [],
   "source": [
    "##############################################################################\n",
    "#                     IMPORTAÇÃO DOS PACOTES NECESSÁRIOS                     #\n",
    "##############################################################################\n",
    "\n",
    "import pandas as pd #manipulação de dados em formato de dataframe"
   ]
  },
  {
   "cell_type": "code",
   "execution_count": null,
   "id": "eb4a8921",
   "metadata": {},
   "outputs": [],
   "source": [
    "##############################################################################\n",
    "#               DESCRIÇÃO E EXPLORAÇÃO DO DATASET 'VarQuanti'                #\n",
    "##############################################################################"
   ]
  },
  {
   "cell_type": "code",
   "execution_count": null,
   "id": "84f0a960",
   "metadata": {},
   "outputs": [],
   "source": [
    "# Carregamento da base de dados 'VarQuanti'\n",
    "df = pd.read_csv('VarQuanti.csv', delimiter=',')\n",
    "\n",
    "# Visualização da base de dados 'VarQuanti'\n",
    "df"
   ]
  },
  {
   "cell_type": "code",
   "execution_count": null,
   "id": "eb975020",
   "metadata": {},
   "outputs": [],
   "source": [
    "# Escalas de mensuração das variáveis\n",
    "df.info()"
   ]
  }
 ],
 "metadata": {
  "jupytext": {
   "cell_metadata_filter": "-all",
   "main_language": "python",
   "notebook_metadata_filter": "-all"
  },
  "kernelspec": {
   "display_name": "Python 3 (ipykernel)",
   "language": "python",
   "name": "python3"
  },
  "language_info": {
   "codemirror_mode": {
    "name": "ipython",
    "version": 3
   },
   "file_extension": ".py",
   "mimetype": "text/x-python",
   "name": "python",
   "nbconvert_exporter": "python",
   "pygments_lexer": "ipython3",
   "version": "3.9.13"
  }
 },
 "nbformat": 4,
 "nbformat_minor": 5
}
