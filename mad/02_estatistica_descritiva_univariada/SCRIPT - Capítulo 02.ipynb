{
 "cells": [
  {
   "cell_type": "code",
   "execution_count": null,
   "id": "e7b923ff",
   "metadata": {
    "lines_to_next_cell": 2
   },
   "outputs": [],
   "source": [
    "##############################################################################\n",
    "#                     MANUAL DE ANÁLISE DE DADOS                             #\n",
    "#                Luiz Paulo Fávero e Patrícia Belfiore                       #\n",
    "#                            Capítulo 02                                     #\n",
    "##############################################################################\n",
    "\n",
    "##############################################################################\n",
    "#                     IMPORTAÇÃO DOS PACOTES NECESSÁRIOS                     #\n",
    "##############################################################################\n",
    "\n",
    "import pandas as pd #manipulação de dados em formato de dataframe\n",
    "import numpy as np #biblioteca para operações matemáticas multidimensionais\n",
    "from scipy.stats import skew #cálculo da assimetria\n",
    "from scipy.stats import kurtosis #cálculo da curtose\n",
    "import seaborn as sns #biblioteca de visualização de informações estatísticas\n",
    "import matplotlib.pyplot as plt #biblioteca de visualização de dados\n",
    "!pip install stemgraphic\n",
    "import stemgraphic #biblioteca para elaboração do gráfico de ramo-e-folhas\n",
    "from scipy.stats import norm #para plotagem da distribuição normal no histograma"
   ]
  },
  {
   "cell_type": "code",
   "execution_count": null,
   "id": "ab6b55d5",
   "metadata": {},
   "outputs": [],
   "source": [
    "##############################################################################\n",
    "#               DESCRIÇÃO E EXPLORAÇÃO DO DATASET 'Cotações'                 #\n",
    "##############################################################################"
   ]
  },
  {
   "cell_type": "code",
   "execution_count": null,
   "id": "618bb51e",
   "metadata": {},
   "outputs": [],
   "source": [
    "# Carregamento da base de dados 'Cotações'\n",
    "df_cotacoes = pd.read_csv('Cotações.csv', delimiter=',')\n",
    "\n",
    "# Visualização da base de dados 'Cotações'\n",
    "df_cotacoes"
   ]
  },
  {
   "cell_type": "code",
   "execution_count": null,
   "id": "5b04b83e",
   "metadata": {},
   "outputs": [],
   "source": [
    "# Tabela de frequências absolutas (contagem) e relativas (%) da variável 'preco'\n",
    "contagem = df_cotacoes['preco'].value_counts()\n",
    "percent = df_cotacoes['preco'].value_counts(normalize=True)\n",
    "pd.concat([contagem, percent], axis=1, keys=['contagem', '%'], sort=True)\n",
    "\n",
    "# Estatísticas descritivas univariadas da variável 'preco'\n",
    "df_cotacoes['preco'].describe()"
   ]
  },
  {
   "cell_type": "code",
   "execution_count": null,
   "id": "aa908a4f",
   "metadata": {},
   "outputs": [],
   "source": [
    "# Medidas de assimetria e curtose para a variável 'preco'\n",
    "skew(df_cotacoes, axis=0, bias=True) # igual ao Stata\n",
    "skew(df_cotacoes, axis=0, bias=False) # igual ao SPSS\n",
    "kurtosis(df_cotacoes, axis=0, bias=False) # igual ao SPSS"
   ]
  },
  {
   "cell_type": "code",
   "execution_count": null,
   "id": "01ebf80e",
   "metadata": {},
   "outputs": [],
   "source": [
    "##############################################################################\n",
    "#   GRÁFICOS: HISTOGRAMA, RAMO-E-FOLHAS E BOXPLOT PARA A VARIÁVEL 'preco'    #\n",
    "##############################################################################"
   ]
  },
  {
   "cell_type": "code",
   "execution_count": null,
   "id": "fd239f2e",
   "metadata": {},
   "outputs": [],
   "source": [
    "# Histograma\n",
    "plt.figure(figsize=(15,10))\n",
    "sns.histplot(data=df_cotacoes, x='preco', bins=7, color='darkorchid')\n",
    "plt.xlabel('Preço', fontsize=20)\n",
    "plt.ylabel('Frequência', fontsize=20)\n",
    "plt.show()"
   ]
  },
  {
   "cell_type": "code",
   "execution_count": null,
   "id": "15bfd696",
   "metadata": {},
   "outputs": [],
   "source": [
    "# Histograma com Kernel density estimation (KDE)\n",
    "plt.figure(figsize=(15,10))\n",
    "sns.histplot(data=df_cotacoes, x='preco', kde=True, bins=7, color='darkorchid')\n",
    "plt.xlabel('Preço', fontsize=20)\n",
    "plt.ylabel('Frequência', fontsize=20)\n",
    "plt.legend(['Kernel density estimation (KDE)'], fontsize=17)\n",
    "plt.show()"
   ]
  },
  {
   "cell_type": "code",
   "execution_count": null,
   "id": "64535607",
   "metadata": {},
   "outputs": [],
   "source": [
    "# Histograma com curva normal\n",
    "plt.figure(figsize=(15,10))\n",
    "mu, std = norm.fit(df_cotacoes['preco'])\n",
    "plt.hist(df_cotacoes['preco'], bins=7, density=True, alpha=0.6, color='silver')\n",
    "xmin, xmax = plt.xlim()\n",
    "x = np.linspace(xmin, xmax, 100)\n",
    "p = norm.pdf(x, mu, std)\n",
    "plt.plot(x, p, 'k', linewidth=2, color='darkorchid')\n",
    "plt.xlabel('Preço', fontsize=20)\n",
    "plt.ylabel('Densidade', fontsize=20)\n",
    "plt.legend(['Curva Normal'], fontsize=17)\n",
    "plt.show()"
   ]
  },
  {
   "cell_type": "code",
   "execution_count": null,
   "id": "d7c65e46",
   "metadata": {},
   "outputs": [],
   "source": [
    "# Gráfico de ramo-e-folhas para a variável 'preco'\n",
    "stemgraphic.stem_graphic(df_cotacoes['preco'], scale = 0)"
   ]
  },
  {
   "cell_type": "code",
   "execution_count": null,
   "id": "b60bf634",
   "metadata": {},
   "outputs": [],
   "source": [
    "# Boxplot da variável 'preco' - pacote 'matplotlib'\n",
    "plt.figure(figsize=(15,10))\n",
    "plt.boxplot(df_cotacoes['preco'])\n",
    "plt.title('Preço', fontsize=17)\n",
    "plt.ylabel('Preço', fontsize=16)\n",
    "plt.show()"
   ]
  },
  {
   "cell_type": "code",
   "execution_count": null,
   "id": "4aa07737",
   "metadata": {},
   "outputs": [],
   "source": [
    "# Boxplot da variável 'preco' - pacote 'seaborn'\n",
    "plt.figure(figsize=(15,10))\n",
    "sns.boxplot(df_cotacoes['preco'], linewidth=2, orient='v', color='purple')\n",
    "sns.stripplot(df_cotacoes['preco'], color=\"orange\", jitter=0.1, size=7)\n",
    "plt.title('Preço', fontsize=17)\n",
    "plt.xlabel('Preço', fontsize=16)\n",
    "plt.show()"
   ]
  }
 ],
 "metadata": {
  "jupytext": {
   "cell_metadata_filter": "-all",
   "main_language": "python",
   "notebook_metadata_filter": "-all"
  },
  "kernelspec": {
   "display_name": "Python 3 (ipykernel)",
   "language": "python",
   "name": "python3"
  },
  "language_info": {
   "codemirror_mode": {
    "name": "ipython",
    "version": 3
   },
   "file_extension": ".py",
   "mimetype": "text/x-python",
   "name": "python",
   "nbconvert_exporter": "python",
   "pygments_lexer": "ipython3",
   "version": "3.9.13"
  }
 },
 "nbformat": 4,
 "nbformat_minor": 5
}
