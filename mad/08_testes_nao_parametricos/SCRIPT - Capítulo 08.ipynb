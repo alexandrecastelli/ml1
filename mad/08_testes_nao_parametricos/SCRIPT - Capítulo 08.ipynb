{
 "cells": [
  {
   "cell_type": "code",
   "execution_count": null,
   "id": "9a3c5fb0",
   "metadata": {},
   "outputs": [],
   "source": [
    "##############################################################################\n",
    "#                     MANUAL DE ANÁLISE DE DADOS                             #\n",
    "#                Luiz Paulo Fávero e Patrícia Belfiore                       #\n",
    "#                            Capítulo 08                                     #\n",
    "##############################################################################\n",
    "\n",
    "##############################################################################\n",
    "#                     IMPORTAÇÃO DOS PACOTES NECESSÁRIOS                     #\n",
    "##############################################################################\n",
    "\n",
    "import pandas as pd #manipulação de dados em formato de dataframe\n",
    "from scipy import stats #testes estatísticos\n",
    "import numpy as np #biblioteca para operações matemáticas multidimensionais\n",
    "from scipy.stats import chisquare #teste qui-quadrado\n",
    "import statsmodels.stats.descriptivestats as smsd #teste dos sinais\n",
    "from statsmodels.stats.contingency_tables import mcnemar #teste de McNemar\n",
    "from scipy.stats import wilcoxon #teste de Wilcoxon\n",
    "from scipy.stats import mannwhitneyu #teste de Mann-Whitney\n",
    "from mlxtend.evaluate import cochrans_q #teste de Cochran\n",
    "from scipy.stats import kruskal #teste de Kruskal-Wallis"
   ]
  },
  {
   "cell_type": "code",
   "execution_count": null,
   "id": "bd1d4eea",
   "metadata": {},
   "outputs": [],
   "source": [
    "##############################################################################\n",
    "#             DESCRIÇÃO E EXPLORAÇÃO DO DATASET 'Teste_Binomial'             #\n",
    "##############################################################################"
   ]
  },
  {
   "cell_type": "code",
   "execution_count": null,
   "id": "b88be358",
   "metadata": {},
   "outputs": [],
   "source": [
    "# Carregamento da base de dados 'Teste_Binomial'\n",
    "df_binomial = pd.read_csv('Teste_Binomial.csv', delimiter=',')\n",
    "\n",
    "# Visualização da base de dados 'Teste_Binomial'\n",
    "df_binomial"
   ]
  },
  {
   "cell_type": "code",
   "execution_count": null,
   "id": "b0a32658",
   "metadata": {},
   "outputs": [],
   "source": [
    "# Determinação do número de valores iguais a '1' na variável 'metodo'\n",
    "freq = pd.Series(df_binomial['metodo']).value_counts()\n",
    "k = freq.get(1)\n",
    "k"
   ]
  },
  {
   "cell_type": "code",
   "execution_count": null,
   "id": "db7ffc1b",
   "metadata": {},
   "outputs": [],
   "source": [
    "# Dimensão da variável 'metodo'\n",
    "n = df_binomial.shape[0]\n",
    "n"
   ]
  },
  {
   "cell_type": "code",
   "execution_count": null,
   "id": "2d3c8418",
   "metadata": {},
   "outputs": [],
   "source": [
    "# Teste binomial para verificação se os dois grupos não apresentam proporções\n",
    "#estatisticamente diferentes (p = q = 0.5), ao nível de confiança de 95%\n",
    "# Teste bilateral (argumento 'two-sided')\n",
    "p = stats.binom_test(k, n, p=0.5, alternative='two-sided')\n",
    "\n",
    "# Interpretação\n",
    "print('p-value=%.4f' % (p))\n",
    "alpha = 0.05 #nível de significância\n",
    "if p > alpha:\n",
    "\tprint('Não se rejeita H0')\n",
    "else:\n",
    "\tprint('Rejeita-se H0')"
   ]
  },
  {
   "cell_type": "code",
   "execution_count": null,
   "id": "25617442",
   "metadata": {},
   "outputs": [],
   "source": [
    "##############################################################################\n",
    "#        DESCRIÇÃO E EXPLORAÇÃO DO DATASET 'Qui_Quadrado_Uma_Amostra'        #\n",
    "##############################################################################"
   ]
  },
  {
   "cell_type": "code",
   "execution_count": null,
   "id": "bc63ec0a",
   "metadata": {},
   "outputs": [],
   "source": [
    "# Carregamento da base de dados 'Qui_Quadrado_Uma_Amostra'\n",
    "df_qui1 = pd.read_csv('Qui_Quadrado_Uma_Amostra.csv', delimiter=',')\n",
    "\n",
    "# Visualização da base de dados 'Qui_Quadrado_Uma_Amostra'\n",
    "df_qui1"
   ]
  },
  {
   "cell_type": "code",
   "execution_count": null,
   "id": "c44a8034",
   "metadata": {},
   "outputs": [],
   "source": [
    "# Tabela de frequências para a variável 'dia_da_semana'\n",
    "freq = df_qui1['dia_da_semana'].value_counts(sort=False)\n",
    "freq"
   ]
  },
  {
   "cell_type": "code",
   "execution_count": null,
   "id": "55211cfd",
   "metadata": {},
   "outputs": [],
   "source": [
    "# Teste qui-quadrado para uma amostra\n",
    "stat, p = chisquare(freq)\n",
    "\n",
    "# Interpretação\n",
    "print('Statistics=%.4f, p-value=%.4f' % (stat, p))\n",
    "alpha = 0.05 #nível de significância\n",
    "if p > alpha:\n",
    "\tprint('Não se rejeita H0')\n",
    "else:\n",
    "\tprint('Rejeita-se H0')"
   ]
  },
  {
   "cell_type": "code",
   "execution_count": null,
   "id": "f3be96d2",
   "metadata": {},
   "outputs": [],
   "source": [
    "##############################################################################\n",
    "#        DESCRIÇÃO E EXPLORAÇÃO DO DATASET 'Teste_Sinais_Uma_Amostra'        #\n",
    "##############################################################################"
   ]
  },
  {
   "cell_type": "code",
   "execution_count": null,
   "id": "824fa695",
   "metadata": {},
   "outputs": [],
   "source": [
    "# Carregamento da base de dados 'Teste_Sinais_Uma_Amostra'\n",
    "df_sinais1 = pd.read_csv('Teste_Sinais_Uma_Amostra.csv', delimiter=',')\n",
    "\n",
    "# Visualização da base de dados 'Teste_Sinais_Uma_Amostra'\n",
    "df_sinais1"
   ]
  },
  {
   "cell_type": "code",
   "execution_count": null,
   "id": "f4cc8604",
   "metadata": {},
   "outputs": [],
   "source": [
    "# Teste dos sinais para uma amostra (comparação com a idade = 65)\n",
    "stat, p = smsd.sign_test(df_sinais1['idade'], 65)\n",
    "\n",
    "# Interpretação\n",
    "print('Statistics=%.4f, p-value=%.4f' % (stat, p))\n",
    "alpha = 0.05 #nível de significância\n",
    "if p > alpha:\n",
    "\tprint('Não se rejeita H0')\n",
    "else:\n",
    "\tprint('Rejeita-se H0')"
   ]
  },
  {
   "cell_type": "code",
   "execution_count": null,
   "id": "88e5a7ef",
   "metadata": {},
   "outputs": [],
   "source": [
    "##############################################################################\n",
    "#             DESCRIÇÃO E EXPLORAÇÃO DO DATASET 'Teste_McNemar'              #\n",
    "##############################################################################"
   ]
  },
  {
   "cell_type": "code",
   "execution_count": null,
   "id": "1db4e2e7",
   "metadata": {},
   "outputs": [],
   "source": [
    "# Carregamento da base de dados 'Teste_McNemar'\n",
    "df_mcnemar = pd.read_csv('Teste_McNemar.csv', delimiter=',')\n",
    "\n",
    "# Visualização da base de dados 'Teste_McNemar'\n",
    "df_mcnemar"
   ]
  },
  {
   "cell_type": "code",
   "execution_count": null,
   "id": "22cf1e2a",
   "metadata": {},
   "outputs": [],
   "source": [
    "# Tabela de frequências observadas para as variáveis 'antes' e 'depois'\n",
    "crosstab = pd.crosstab(df_mcnemar['antes'],\n",
    "                       df_mcnemar['depois'],\n",
    "                       margins = False)\n",
    "crosstab"
   ]
  },
  {
   "cell_type": "code",
   "execution_count": null,
   "id": "dda44768",
   "metadata": {},
   "outputs": [],
   "source": [
    "# Teste de McNemar\n",
    "print(mcnemar(crosstab, exact=False))"
   ]
  },
  {
   "cell_type": "code",
   "execution_count": null,
   "id": "09207c90",
   "metadata": {},
   "outputs": [],
   "source": [
    "##############################################################################\n",
    "# DESCRIÇÃO E EXPLORAÇÃO DO DATASET 'Teste_Sinais_Duas_Amostras_Emparelhadas'#\n",
    "##############################################################################"
   ]
  },
  {
   "cell_type": "code",
   "execution_count": null,
   "id": "f4aa427f",
   "metadata": {},
   "outputs": [],
   "source": [
    "# Carregamento da base de dados 'Teste_Sinais_Duas_Amostras_Emparelhadas'\n",
    "df_sinais2 = pd.read_csv('Teste_Sinais_Duas_Amostras_Emparelhadas.csv',\n",
    "                         delimiter=',')\n",
    "\n",
    "# Visualização da base de dados 'Teste_Sinais_Duas_Amostras_Emparelhadas'\n",
    "df_sinais2"
   ]
  },
  {
   "cell_type": "code",
   "execution_count": null,
   "id": "9bea5496",
   "metadata": {},
   "outputs": [],
   "source": [
    "# Teste dos sinais para duas amostras emparelhadas\n",
    "diferenca = df_sinais2['antes'] - df_sinais2['depois']\n",
    "stat, p = smsd.sign_test(diferenca, 0)\n",
    "\n",
    "# Interpretação\n",
    "print('Statistics=%.4f, p-value=%.4f' % (stat, p))\n",
    "alpha = 0.05 #nível de significância\n",
    "if p > alpha:\n",
    "\tprint('Não se rejeita H0')\n",
    "else:\n",
    "\tprint('Rejeita-se H0')"
   ]
  },
  {
   "cell_type": "code",
   "execution_count": null,
   "id": "08009011",
   "metadata": {},
   "outputs": [],
   "source": [
    "##############################################################################\n",
    "#              DESCRIÇÃO E EXPLORAÇÃO DO DATASET 'Teste_Wilcoxon'            #\n",
    "##############################################################################"
   ]
  },
  {
   "cell_type": "code",
   "execution_count": null,
   "id": "e68a9ff0",
   "metadata": {},
   "outputs": [],
   "source": [
    "# Carregamento da base de dados 'Teste_Wilcoxon'\n",
    "df_wilcoxon = pd.read_csv('Teste_Wilcoxon.csv', delimiter=',')\n",
    "\n",
    "# Visualização da base de dados 'Teste_Wilcoxon'\n",
    "df_wilcoxon"
   ]
  },
  {
   "cell_type": "code",
   "execution_count": null,
   "id": "02371ee1",
   "metadata": {},
   "outputs": [],
   "source": [
    "# Teste de Wilcoxon\n",
    "stat, p = wilcoxon(df_wilcoxon['antes'],\n",
    "                   df_wilcoxon['depois'],\n",
    "                   alternative='two-sided')\n",
    "\n",
    "# Interpretação\n",
    "print('Statistics=%.4f, p-value=%.4f' % (stat, p))\n",
    "alpha = 0.05 #nível de significância\n",
    "if p > alpha:\n",
    "\tprint('Não se rejeita H0')\n",
    "else:\n",
    "\tprint('Rejeita-se H0')"
   ]
  },
  {
   "cell_type": "code",
   "execution_count": null,
   "id": "52af3df1",
   "metadata": {},
   "outputs": [],
   "source": [
    "##############################################################################\n",
    "#                DESCRIÇÃO E EXPLORAÇÃO DO DATASET 'PlanoSaude'              #\n",
    "##############################################################################"
   ]
  },
  {
   "cell_type": "code",
   "execution_count": null,
   "id": "ae916239",
   "metadata": {},
   "outputs": [],
   "source": [
    "# Carregamento da base de dados 'PlanoSaude'\n",
    "df_planosaude = pd.read_csv('PlanoSaude.csv', delimiter=',')\n",
    "\n",
    "# Visualização da base de dados 'PlanoSaude'\n",
    "df_planosaude"
   ]
  },
  {
   "cell_type": "code",
   "execution_count": null,
   "id": "f9f47cd7",
   "metadata": {},
   "outputs": [],
   "source": [
    "# Tabela de frequências observadas para as variáveis 'operadora' e 'satisfacao'\n",
    "crosstab = pd.crosstab(df_planosaude['operadora'],\n",
    "                       df_planosaude['satisfacao'],\n",
    "                       margins = False)\n",
    "crosstab"
   ]
  },
  {
   "cell_type": "code",
   "execution_count": null,
   "id": "a0ed7b41",
   "metadata": {},
   "outputs": [],
   "source": [
    "# Teste qui-quadrado para duas amostras independentes\n",
    "stat, p, df, freq = stats.chi2_contingency(crosstab)\n",
    "\n",
    "# Interpretação\n",
    "print('Statistics=%.4f, df=%.1g, p-value=%.4f' % (stat, df, p))\n",
    "alpha = 0.05 #nível de significância\n",
    "if p > alpha:\n",
    "\tprint('Não se rejeita H0')\n",
    "else:\n",
    "\tprint('Rejeita-se H0')"
   ]
  },
  {
   "cell_type": "code",
   "execution_count": null,
   "id": "57ab28b9",
   "metadata": {},
   "outputs": [],
   "source": [
    "##############################################################################\n",
    "#            DESCRIÇÃO E EXPLORAÇÃO DO DATASET 'Teste_Mann_Whitney'          #\n",
    "##############################################################################"
   ]
  },
  {
   "cell_type": "code",
   "execution_count": null,
   "id": "3ec7b0b3",
   "metadata": {},
   "outputs": [],
   "source": [
    "# Carregamento da base de dados 'Teste_Mann_Whitney'\n",
    "df_mwhitney = pd.read_csv('Teste_Mann_Whitney.csv', delimiter=',')\n",
    "\n",
    "# Visualização da base de dados 'Teste_Mann_Whitney'\n",
    "df_mwhitney"
   ]
  },
  {
   "cell_type": "code",
   "execution_count": null,
   "id": "03a183c1",
   "metadata": {},
   "outputs": [],
   "source": [
    "# Teste de Mann-Whitney\n",
    "array = np.array(df_mwhitney['diametro'])\n",
    "array1 = array[df_mwhitney['maquina'] == 'a']\n",
    "array2 = array[df_mwhitney['maquina'] == 'b']\n",
    "\n",
    "stat, p = mannwhitneyu(array1, array2, alternative=\"two-sided\", method=\"auto\")\n",
    "\n",
    "# Interpretação\n",
    "print('Statistics=%.4f, p-value=%.4f' % (stat, p))\n",
    "alpha = 0.05 #nível de significância\n",
    "if p > alpha:\n",
    "\tprint('Não se rejeita H0')\n",
    "else:\n",
    "\tprint('Rejeita-se H0')"
   ]
  },
  {
   "cell_type": "code",
   "execution_count": null,
   "id": "a2b4d62a",
   "metadata": {},
   "outputs": [],
   "source": [
    "##############################################################################\n",
    "#              DESCRIÇÃO E EXPLORAÇÃO DO DATASET 'Teste_Q_Cochran'           #\n",
    "##############################################################################"
   ]
  },
  {
   "cell_type": "code",
   "execution_count": null,
   "id": "732e9d22",
   "metadata": {},
   "outputs": [],
   "source": [
    "# Carregamento da base de dados 'Teste_Q_Cochran'\n",
    "df_cochran = pd.read_csv('Teste_Q_Cochran.csv', delimiter=',')\n",
    "\n",
    "# Visualização da base de dados 'Teste_Q_Cochran'\n",
    "df_cochran"
   ]
  },
  {
   "cell_type": "code",
   "execution_count": null,
   "id": "093baf48",
   "metadata": {},
   "outputs": [],
   "source": [
    "# Teste Q de Cochran\n",
    "df_cochran['ytrue'] = 0\n",
    "ytrue = np.array(df_cochran['ytrue'])\n",
    "\n",
    "df_cochran['ymodel1'] = np.where(\n",
    "    df_cochran['a'] == 'satisfeito', 1, 0) \n",
    "ymodel1 = np.array(df_cochran['ymodel1'])\n",
    "\n",
    "df_cochran['ymodel2'] = np.where(\n",
    "    df_cochran['b'] == 'satisfeito', 1, 0) \n",
    "ymodel2 = np.array(df_cochran['ymodel2'])\n",
    "\n",
    "df_cochran['ymodel3'] = np.where(\n",
    "    df_cochran['c'] == 'satisfeito', 1, 0) \n",
    "ymodel3 = np.array(df_cochran['ymodel3'])\n",
    "\n",
    "stat, p = cochrans_q(ytrue, ymodel1, ymodel2, ymodel3)\n",
    "\n",
    "# Interpretação\n",
    "print('Statistics=%.4f, p-value=%.4f' % (stat, p))\n",
    "alpha = 0.05 #nível de significância\n",
    "if p > alpha:\n",
    "\tprint('Não se rejeita H0')\n",
    "else:\n",
    "\tprint('Rejeita-se H0')"
   ]
  },
  {
   "cell_type": "code",
   "execution_count": null,
   "id": "5eddcbf7",
   "metadata": {},
   "outputs": [],
   "source": [
    "##############################################################################\n",
    "#               DESCRIÇÃO E EXPLORAÇÃO DO DATASET 'Teste_Friedman'           #\n",
    "##############################################################################"
   ]
  },
  {
   "cell_type": "code",
   "execution_count": null,
   "id": "fc22b086",
   "metadata": {},
   "outputs": [],
   "source": [
    "# Carregamento da base de dados 'Teste_Friedman'\n",
    "df_friedman = pd.read_csv('Teste_Friedman.csv', delimiter=',')\n",
    "\n",
    "# Visualização da base de dados 'Teste_Friedman'\n",
    "df_friedman"
   ]
  },
  {
   "cell_type": "code",
   "execution_count": null,
   "id": "a84c60f5",
   "metadata": {},
   "outputs": [],
   "source": [
    "# Teste de Friedman\n",
    "stat, p = stats.friedmanchisquare(df_friedman['at'],\n",
    "                                  df_friedman['pt'],\n",
    "                                  df_friedman['d3m'])\n",
    "\n",
    "# Interpretação\n",
    "print('Statistics=%.4f, p-value=%.4f' % (stat, p))\n",
    "alpha = 0.05 #nível de significância\n",
    "if p > alpha:\n",
    "\tprint('Não se rejeita H0')\n",
    "else:\n",
    "\tprint('Rejeita-se H0')"
   ]
  },
  {
   "cell_type": "code",
   "execution_count": null,
   "id": "1b4db59e",
   "metadata": {},
   "outputs": [],
   "source": [
    "##############################################################################\n",
    "#  DESCRIÇÃO E EXPLORAÇÃO DO DATASET 'Qui_Quadrado_k_Amostras_Independentes' #\n",
    "##############################################################################"
   ]
  },
  {
   "cell_type": "code",
   "execution_count": null,
   "id": "bb880bca",
   "metadata": {},
   "outputs": [],
   "source": [
    "# Carregamento da base de dados 'Qui_Quadrado_k_Amostras_Independentes'\n",
    "df_quik = pd.read_csv('Qui_Quadrado_k_Amostras_Independentes.csv',\n",
    "                          delimiter=',')\n",
    "\n",
    "# Visualização da base de dados 'Qui_Quadrado_k_Amostras_Independentes'\n",
    "df_quik"
   ]
  },
  {
   "cell_type": "code",
   "execution_count": null,
   "id": "cc9d7b47",
   "metadata": {},
   "outputs": [],
   "source": [
    "# Tabela de frequências observadas para as variáveis 'produtividade' e 'turno'\n",
    "crosstab = pd.crosstab(df_quik['produtividade'],\n",
    "                       df_quik['turno'],\n",
    "                       margins = False)\n",
    "crosstab"
   ]
  },
  {
   "cell_type": "code",
   "execution_count": null,
   "id": "ce071d7e",
   "metadata": {},
   "outputs": [],
   "source": [
    "# Teste qui-quadrado para k amostras independentes\n",
    "stat, p, df, freq = stats.chi2_contingency(crosstab)\n",
    "\n",
    "# Interpretação\n",
    "print('Statistics=%.4f, df=%.1g, p-value=%.4f' % (stat, df, p))\n",
    "alpha = 0.05 #nível de significância\n",
    "if p > alpha:\n",
    "\tprint('Não se rejeita H0')\n",
    "else:\n",
    "\tprint('Rejeita-se H0')"
   ]
  },
  {
   "cell_type": "code",
   "execution_count": null,
   "id": "58072eee",
   "metadata": {},
   "outputs": [],
   "source": [
    "##############################################################################\n",
    "#           DESCRIÇÃO E EXPLORAÇÃO DO DATASET 'Teste_Kruskal_Wallis'         #\n",
    "##############################################################################"
   ]
  },
  {
   "cell_type": "code",
   "execution_count": null,
   "id": "379ecc53",
   "metadata": {},
   "outputs": [],
   "source": [
    "# Carregamento da base de dados 'Teste_Kruskal_Wallis'\n",
    "df_kwallis = pd.read_csv('Teste_Kruskal_Wallis.csv', delimiter=',')\n",
    "\n",
    "# Visualização da base de dados 'Teste_Kruskal_Wallis'\n",
    "df_kwallis"
   ]
  },
  {
   "cell_type": "code",
   "execution_count": null,
   "id": "7f22c22e",
   "metadata": {},
   "outputs": [],
   "source": [
    "# Teste de Kruskal-Wallis\n",
    "array = np.array(df_kwallis['resultado'])\n",
    "array1 = array[df_kwallis['tratamento'] == 1]\n",
    "array2 = array[df_kwallis['tratamento'] == 2]\n",
    "array3 = array[df_kwallis['tratamento'] == 3]\n",
    "\n",
    "stat, p = kruskal(array1, array2, array3)\n",
    "\n",
    "# Interpretação\n",
    "print('Statistics=%.4f, p-value=%.4f' % (stat, p))\n",
    "alpha = 0.05 #nível de significância\n",
    "if p > alpha:\n",
    "\tprint('Não se rejeita H0')\n",
    "else:\n",
    "\tprint('Rejeita-se H0')"
   ]
  }
 ],
 "metadata": {
  "jupytext": {
   "cell_metadata_filter": "-all",
   "main_language": "python",
   "notebook_metadata_filter": "-all"
  },
  "kernelspec": {
   "display_name": "Python 3 (ipykernel)",
   "language": "python",
   "name": "python3"
  },
  "language_info": {
   "codemirror_mode": {
    "name": "ipython",
    "version": 3
   },
   "file_extension": ".py",
   "mimetype": "text/x-python",
   "name": "python",
   "nbconvert_exporter": "python",
   "pygments_lexer": "ipython3",
   "version": "3.9.13"
  }
 },
 "nbformat": 4,
 "nbformat_minor": 5
}
